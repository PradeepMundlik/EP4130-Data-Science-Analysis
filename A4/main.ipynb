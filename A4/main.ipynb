{
 "cells": [
  {
   "cell_type": "markdown",
   "metadata": {},
   "source": [
    "## Assignment-4\n",
    "### Pradeep Mundlik (AI21BTECH11022)"
   ]
  },
  {
   "cell_type": "code",
   "execution_count": 144,
   "metadata": {},
   "outputs": [],
   "source": [
    "import numpy as np\n",
    "import matplotlib.pyplot as plt\n",
    "from scipy import stats\n",
    "from scipy import optimize"
   ]
  },
  {
   "cell_type": "markdown",
   "metadata": {},
   "source": [
    "### Q-1"
   ]
  },
  {
   "cell_type": "code",
   "execution_count": 145,
   "metadata": {},
   "outputs": [],
   "source": [
    "data = np.array([\n",
    "[0.417022004703, 0.121328306045, 0.1],\n",
    "[0.720324493442, 0.849527236006, 0.1],\n",
    "[0.000114374817345, -1.01701405804, 0.1],\n",
    "[0.302332572632, -0.391715712054, 0.1],\n",
    "[0.146755890817, -0.680729552205, 0.1],\n",
    "[0.0923385947688, -0.748514873007, 0.1],\n",
    "[0.186260211378, -0.702848628623, 0.1],\n",
    "[0.345560727043, -0.0749939588554, 0.1],\n",
    "[0.396767474231, 0.041118449128, 0.1],\n",
    "[0.538816734003, 0.418206374739, 0.1],\n",
    "[0.419194514403, 0.104198664639, 0.1],\n",
    "[0.685219500397, 0.7715919786, 0.1],\n",
    "[0.204452249732, -0.561583800669, 0.1],\n",
    "[0.878117436391, 1.43374816145, 0.1],\n",
    "[0.0273875931979, -0.971263541306, 0.1],\n",
    "[0.670467510178, 0.843497249235, 0.1],\n",
    "[0.417304802367, -0.0604131723596, 0.1],\n",
    "[0.558689828446, 0.389838628615, 0.1],\n",
    "[0.140386938595, -0.768234900293, 0.1],\n",
    "[0.198101489085, -0.649073386002, 0.1],\n",
    "])\n",
    "\n",
    "X = data[: , 0]\n",
    "Y = data[: , 1]\n",
    "sigma_y= data[: , 2]"
   ]
  },
  {
   "cell_type": "code",
   "execution_count": 146,
   "metadata": {},
   "outputs": [],
   "source": [
    "def linear_fit(x , m , b):\n",
    "    return m * x + b\n",
    "\n",
    "def quadratic_fit(x , a , b , c):\n",
    "    return a * (x**2) + b * x  + c\n",
    "\n",
    "def cubic_fit(x , a , b , c , d):\n",
    "    return a * (x**3) + b * (x**2) + c * x + d"
   ]
  },
  {
   "cell_type": "code",
   "execution_count": 147,
   "metadata": {},
   "outputs": [],
   "source": [
    "def poly_fitting(param,x):\n",
    "    return sum(k*x**n for (n,k) in enumerate(param))\n",
    "\n",
    "def log_likelihood(theta, model= poly_fitting):\n",
    "    Y_fit = model(theta, X)\n",
    "    return sum(stats.norm.logpdf(*args) for args in zip(Y,Y_fit,sigma_y))\n",
    "\n",
    "def theta_fit(deg, model= poly_fitting):\n",
    "    theta_0 = [0] * (deg + 1)\n",
    "    neg_logLH = lambda theta: - log_likelihood(theta)\n",
    "    return optimize.fmin_bfgs(neg_logLH, theta_0, disp=False)\n",
    "\n",
    "def compute_chi2(deg):\n",
    "    theta = theta_fit(deg)\n",
    "    val = (Y - poly_fitting(theta, X)) / sigma_y\n",
    "    return np.sum(val ** 2)\n",
    "\n",
    "def dof(deg):\n",
    "    n = len(data)\n",
    "    return n - deg - 1\n",
    "\n",
    "def chi_squared_likelihood(deg):\n",
    "    return stats.chi2(dof(deg)).pdf(compute_chi2(deg))"
   ]
  },
  {
   "cell_type": "code",
   "execution_count": 148,
   "metadata": {},
   "outputs": [
    {
     "name": "stdout",
     "output_type": "stream",
     "text": [
      "Chi square value for degree 1 is 0.045383795585920136\n",
      "Chi square value for degree 2 is 0.03660844755014186\n",
      "Chi square value for degree 3 is 0.04215280601014605\n"
     ]
    }
   ],
   "source": [
    "print(f\"Chi square value for degree 1 is {chi_squared_likelihood(1)}\")\n",
    "print(f\"Chi square value for degree 2 is {chi_squared_likelihood(2)}\")\n",
    "print(f\"Chi square value for degree 3 is {chi_squared_likelihood(3)}\")"
   ]
  },
  {
   "cell_type": "code",
   "execution_count": 149,
   "metadata": {},
   "outputs": [],
   "source": [
    "def log_likelihood(deg, param, X, Y, sigma_y):\n",
    "    f = [linear_fit, quadratic_fit, cubic_fit]\n",
    "    y_fit = f[deg-1](X, *param)\n",
    "    \n",
    "    return sum(stats.norm.logpdf(*args) for args in zip(Y, y_fit, sigma_y))\n",
    "\n",
    "def aic(deg, param, X, Y, sigma_y):\n",
    "    return 2*(deg + 1) - 2*log_likelihood(deg, param, X, Y, sigma_y)\n",
    "\n",
    "def bic(deg, param, X, Y, sigma_y):\n",
    "    n = len(X)\n",
    "    return (deg + 1)*np.log(n) - 2*log_likelihood(deg, param, X, Y, sigma_y)\n",
    "\n",
    "def aicc(deg, param, X, Y, sigma_y):\n",
    "    n = len(X)\n",
    "    return aic(deg, param, X, Y, sigma_y) + (2*(deg + 1)*(deg + 2))/(n - deg - 2)\n",
    "\n",
    "def error(deg, param):\n",
    "    f = [linear_fit, quadratic_fit, cubic_fit]\n",
    "    y_fit = f[deg-1](X, *param)\n",
    "    return sum(((Y - y_fit)/sigma_y))\n",
    "\n",
    "def fit(deg, X, Y, sigma_y):\n",
    "    f = [linear_fit, quadratic_fit, cubic_fit]\n",
    "    return optimize.curve_fit(f[deg-1], X, Y, sigma=sigma_y)[0]"
   ]
  },
  {
   "cell_type": "code",
   "execution_count": 150,
   "metadata": {},
   "outputs": [],
   "source": [
    "linear = fit(1, X, Y, sigma_y)\n",
    "quadratic = fit(2, X, Y, sigma_y)\n",
    "cubic = fit(3, X, Y, sigma_y)\n",
    "\n",
    "error_linear = error(1, linear)\n",
    "error_quadratic = error(2, quadratic)\n",
    "error_cubic = error(3, cubic)\n",
    "\n",
    "chi2_linear = np.sum(error_linear ** 2)\n",
    "chi2_quadratic = np.sum(error_quadratic ** 2)\n",
    "chi2_cubic = np.sum(error_cubic ** 2)\n",
    "\n",
    "p_quadratic = 1 - stats.chi2(1).cdf(chi2_linear - chi2_quadratic)\n",
    "p_cubic = 1 - stats.chi2(2).cdf(chi2_linear - chi2_cubic)"
   ]
  },
  {
   "cell_type": "code",
   "execution_count": 151,
   "metadata": {},
   "outputs": [
    {
     "name": "stdout",
     "output_type": "stream",
     "text": [
      "AIC for linear fit is -40.0366868160727\n",
      "AIC for quadratic fit is -39.84982062400561\n",
      "AIC for cubic fit is -38.26081851760256\n",
      "BIC for linear fit is -38.04522226896472\n",
      "BIC for quadratic fit is -36.86262380334364\n",
      "BIC for cubic fit is -34.2778894233866\n",
      "AICc for linear fit is -39.33080446313153\n",
      "AICc for quadratic fit is -38.34982062400561\n",
      "AICc for cubic fit is -35.594151850935894\n",
      "p value for quadratic fit is 0.9999999999999868\n",
      "p value for cubic fit is 1.0\n"
     ]
    }
   ],
   "source": [
    "print(f\"AIC for linear fit is {aic(1, linear, X, Y, sigma_y)}\")\n",
    "print(f\"AIC for quadratic fit is {aic(2, quadratic, X, Y, sigma_y)}\")\n",
    "print(f\"AIC for cubic fit is {aic(3, cubic, X, Y, sigma_y)}\")\n",
    "\n",
    "print(f\"BIC for linear fit is {bic(1, linear, X, Y, sigma_y)}\")\n",
    "print(f\"BIC for quadratic fit is {bic(2, quadratic, X, Y, sigma_y)}\")\n",
    "print(f\"BIC for cubic fit is {bic(3, cubic, X, Y, sigma_y)}\")\n",
    "\n",
    "print(f\"AICc for linear fit is {aicc(1, linear, X, Y, sigma_y)}\")\n",
    "print(f\"AICc for quadratic fit is {aicc(2, quadratic, X, Y, sigma_y)}\")\n",
    "print(f\"AICc for cubic fit is {aicc(3, cubic, X, Y, sigma_y)}\")\n",
    "\n",
    "print(f\"p value for quadratic fit is {p_quadratic}\")\n",
    "print(f\"p value for cubic fit is {p_cubic}\")\n"
   ]
  },
  {
   "cell_type": "code",
   "execution_count": 152,
   "metadata": {},
   "outputs": [
    {
     "data": {
      "image/png": "[encoded data removed]",
      "text/plain": [
       "<Figure size 640x480 with 1 Axes>"
      ]
     },
     "metadata": {},
     "output_type": "display_data"
    }
   ],
   "source": [
    "# Plot data and fits\n",
    "x_values = np.linspace(0, 1, 1000)\n",
    "plt.errorbar(X, Y, yerr=sigma_y, fmt='o', label='Data')\n",
    "plt.plot(x_values, linear_fit(x_values, *linear), label='Linear fit')\n",
    "plt.plot(x_values, quadratic_fit(x_values, *quadratic), label='Quadratic fit')\n",
    "plt.plot(x_values, cubic_fit(x_values, *cubic), label='Cubic fit')\n",
    "plt.xlabel('x')\n",
    "plt.ylabel('y')\n",
    "plt.legend()\n",
    "plt.title(\"Depicting the best-fit Linear, Quadratic and Cubic models for given set of data\")\n",
    "plt.grid()\n",
    "plt.show()"
   ]
  },
  {
   "cell_type": "markdown",
   "metadata": {},
   "source": [
    "### Q-2"
   ]
  },
  {
   "cell_type": "code",
   "execution_count": 153,
   "metadata": {},
   "outputs": [],
   "source": [
    "# data from JDVP\n",
    "data = np.array([[ 0.42,  0.72,  0.  ,  0.3 ,  0.15,\n",
    "                   0.09,  0.19,  0.35,  0.4 ,  0.54,\n",
    "                   0.42,  0.69,  0.2 ,  0.88,  0.03,\n",
    "                   0.67,  0.42,  0.56,  0.14,  0.2  ],\n",
    "                 [ 0.33,  0.41, -0.22,  0.01, -0.05,\n",
    "                  -0.05, -0.12,  0.26,  0.29,  0.39, \n",
    "                   0.31,  0.42, -0.01,  0.58, -0.2 ,\n",
    "                   0.52,  0.15,  0.32, -0.13, -0.09 ],\n",
    "                 [ 0.1 ,  0.1 ,  0.1 ,  0.1 ,  0.1 ,\n",
    "                   0.1 ,  0.1 ,  0.1 ,  0.1 ,  0.1 ,\n",
    "                   0.1 ,  0.1 ,  0.1 ,  0.1 ,  0.1 ,\n",
    "                   0.1 ,  0.1 ,  0.1 ,  0.1 ,  0.1  ]])\n",
    "X, Y, sigma_y = data"
   ]
  },
  {
   "cell_type": "code",
   "execution_count": 154,
   "metadata": {},
   "outputs": [],
   "source": [
    "linear = fit(1, X, Y, sigma_y)\n",
    "quadratic = fit(2, X, Y, sigma_y)"
   ]
  },
  {
   "cell_type": "code",
   "execution_count": 155,
   "metadata": {},
   "outputs": [
    {
     "name": "stdout",
     "output_type": "stream",
     "text": [
      "The value of AIC for Linear Model is -40.02173401322526\n",
      "The value of AIC for Quadratic Model is -39.88302717300821\n",
      "The value of BIC for Linear Model is -38.03026946611728\n",
      "The value of BIC for Quadratic Model is -36.89583035234624\n",
      "The value of AICc for Linear Model is -39.31585166028409\n",
      "The value of AICc for Quadratic Model is -38.38302717300821\n"
     ]
    }
   ],
   "source": [
    "print(f\"The value of AIC for Linear Model is {aic(1, linear, X, Y, sigma_y)}\")\n",
    "print(f\"The value of AIC for Quadratic Model is {aic(2, quadratic, X, Y, sigma_y)}\")\n",
    "print(f\"The value of BIC for Linear Model is {bic(1, linear, X, Y, sigma_y)}\")\n",
    "print(f\"The value of BIC for Quadratic Model is {bic(2, quadratic, X, Y, sigma_y)}\")\n",
    "print(f\"The value of AICc for Linear Model is {aicc(1, linear, X, Y, sigma_y)}\")\n",
    "print(f\"The value of AICc for Quadratic Model is {aicc(2, quadratic, X, Y, sigma_y)}\")"
   ]
  },
  {
   "cell_type": "markdown",
   "metadata": {},
   "source": [
    "### Q-3"
   ]
  },
  {
   "cell_type": "markdown",
   "metadata": {},
   "source": [
    "**Research Paper**: [The Kolmogorov–Smirnov test for three redshift distributions of long gamma-ray bursts in the Swift Era](https://iopscience.iop.org/article/10.1088/1674-4527/9/1/008/meta)\n",
    "by Yun-Ming Dong and Tan Lu, published in Research in Astronomy and Astrophysics.\n",
    "\n",
    "The research conducted by Dong and Lu explores the application of the Kolmogorov-Smirnov (KS) test to analyze three different redshift distributions of long gamma-ray bursts within a specific redshift interval during the Swift Era. They divided the data into five bins and applied the KS test to assess the similarity between these distributions.\n",
    "\n",
    "Their findings reveal significant KS probabilities for one set of distributions, suggesting that they likely originate from the same underlying distribution within the specified redshift ranges. However, for another set of distributions, the KS probabilities vary across different redshift intervals, indicating that these distributions are distinct and inconsistent, particularly concerning redshift calculations.\n",
    "\n",
    "This analysis holds relevance for evaluating the validity of established relationships such as the V-Liso and τ-Liso relations in the context of gamma-ray burst observations."
   ]
  },
  {
   "cell_type": "markdown",
   "metadata": {},
   "source": [
    "### Q-4"
   ]
  },
  {
   "cell_type": "code",
   "execution_count": 156,
   "metadata": {},
   "outputs": [
    {
     "name": "stdout",
     "output_type": "stream",
     "text": [
      "The corresponding p-values and significance levels (in terms of sigma) are: \n",
      "p-value = 0.1 significance level = 1.2815515655446004\n",
      "p-value = 0.01 significance level = 2.3263478740408408\n",
      "p-value = 0.001 significance level = 3.090232306167813\n",
      "p-value = 1e-05 significance level = 4.264890793922825\n",
      "p-value = 1e-07 significance level = 5.1993375821928165\n",
      "p-value = 1e-09 significance level = 5.9978070150076865\n"
     ]
    }
   ],
   "source": [
    "# Higgs boson discovery\n",
    "p_vals = [10**-1, 10**-2, 10**-3, 10**-5, 10**-7, 10**-9]\n",
    "\n",
    "print(\"The corresponding p-values and significance levels (in terms of sigma) are: \")\n",
    "for p in p_vals:\n",
    "    print(f\"p-value = {p} significance level = {stats.norm.isf(p)}\")"
   ]
  },
  {
   "cell_type": "code",
   "execution_count": 157,
   "metadata": {},
   "outputs": [
    {
     "name": "stdout",
     "output_type": "stream",
     "text": [
      "For LIGO, the p-value of 2e-07 is 5.068957749717791 and the significance(in terms of no. of σs) is 5.068957749717791\n"
     ]
    }
   ],
   "source": [
    "ligo_p_value = 2*10**-7\n",
    "ligo_significance = stats.norm.isf(ligo_p_value)\n",
    "print(f\"For LIGO, the p-value of {ligo_p_value} is {ligo_significance} and the significance(in terms of no. of \\u03C3s) is {ligo_significance}\")"
   ]
  },
  {
   "cell_type": "code",
   "execution_count": 158,
   "metadata": {},
   "outputs": [
    {
     "name": "stdout",
     "output_type": "stream",
     "text": [
      "The chi-square GOF is given by 0.5394901931099038\n"
     ]
    }
   ],
   "source": [
    "chi_square = 65.2\n",
    "dof = 67\n",
    "print(f\"The chi-square GOF is given by {1 - stats.chi2(dof).cdf(chi_square)}\")"
   ]
  }
 ],
 "metadata": {
  "kernelspec": {
   "display_name": "Python 3",
   "language": "python",
   "name": "python3"
  },
  "language_info": {
   "codemirror_mode": {
    "name": "ipython",
    "version": 3
   },
   "file_extension": ".py",
   "mimetype": "text/x-python",
   "name": "python",
   "nbconvert_exporter": "python",
   "pygments_lexer": "ipython3",
   "version": "3.10.12"
  }
 },
 "nbformat": 4,
 "nbformat_minor": 2
}
